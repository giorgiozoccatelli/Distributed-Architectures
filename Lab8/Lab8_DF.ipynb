{
 "cells": [
  {
   "cell_type": "code",
   "execution_count": null,
   "id": "69234aaf-d8cc-4842-88a7-aec6980e4961",
   "metadata": {},
   "outputs": [],
   "source": [
    "inputPath1 = \"/data/students/bigdata-01QYD/Lab7_DBD/register.csv\"\n",
    "inputPath2 = \"/data/students/bigdata-01QYD/Lab7_DBD/stations.csv\"\n",
    "outputPath = \"Lab8/res_Lab_8\"\n",
    "threshold = 0.6"
   ]
  },
  {
   "cell_type": "code",
   "execution_count": null,
   "id": "5a11563d-a08f-4c3d-b4f3-e02841f1464e",
   "metadata": {},
   "outputs": [],
   "source": [
    "inputDF1 = spark.read.load(inputPath1, format=\"csv\", delimiter=\"\\\\t\", header=True, inferSchema=True)\n",
    "filterDF = inputDF1.filter(\"free_slots<>0 OR used_slots<>0\")"
   ]
  },
  {
   "cell_type": "code",
   "execution_count": null,
   "id": "efd51bd8-c184-45b9-b469-5245fbfb8446",
   "metadata": {},
   "outputs": [],
   "source": [
    "def fullFunction(free_slots):\n",
    "    if free_slots==0:\n",
    "        return 1\n",
    "    else:\n",
    "        return 0\n",
    "    \n",
    "spark.udf.register(\"full\", fullFunction)"
   ]
  },
  {
   "cell_type": "code",
   "execution_count": null,
   "id": "3a119965-6651-4530-81cf-06f962ed8368",
   "metadata": {},
   "outputs": [],
   "source": [
    "stationWeekdayHourDF = filterDF.selectExpr(\"station\", \"date_format(timestamp,'EE') as dayofweek\", \"hour(timestamp) as hour\", \"full(free_slots) as fullstatus\")\n",
    "groupedStationWeekdayHourDF = stationWeekdayHourDF.groupBy(\"station\", \"dayofweek\", \"hour\")\n",
    "criticalityDF = groupedStationWeekdayHourDF.agg({\"fullstatus\":\"avg\"}).withColumnRenamed(\"avg(fullstatus)\",\"criticality\")\n",
    "                                           \n",
    "selectedCriticalityDF = criticalityDF.filter(\"criticality > \"+str(threshold))"
   ]
  },
  {
   "cell_type": "code",
   "execution_count": null,
   "id": "c33b827a-70c1-42d1-99d9-5423fa6d439b",
   "metadata": {},
   "outputs": [],
   "source": [
    "inputDF2 = spark.read.load(inputPath2, format=\"csv\", delimiter=\"\\\\t\", header=True, inferSchema=True)\n",
    "selectedCriticalityCoordinatesDF = selectedCriticalityDF.join(inputDF2,selectedCriticalityDF.station==inputDF2.id)"
   ]
  },
  {
   "cell_type": "code",
   "execution_count": null,
   "id": "a56b225b-a02b-4eb5-87fa-a087957f6874",
   "metadata": {},
   "outputs": [],
   "source": [
    "orderedDF = selectedCriticalityCoordinatesDF.selectExpr(\"station\", \"dayofweek\", \"hour\", \"longitude\", \"latitude\", \"criticality\").sort(\"criticality\", ascending=False)\n",
    "orderedDF.show()"
   ]
  },
  {
   "cell_type": "code",
   "execution_count": null,
   "id": "9accadee-1dab-4cd2-90ef-069d9c751dc0",
   "metadata": {},
   "outputs": [],
   "source": [
    "orderedDF.write.format(\"csv\").option(\"header\", True).save(outputPath)"
   ]
  },
  {
   "cell_type": "code",
   "execution_count": null,
   "id": "6cffebad-f460-4383-834a-a9b3b0063148",
   "metadata": {},
   "outputs": [],
   "source": []
  }
 ],
 "metadata": {
  "kernelspec": {
   "display_name": "PySpark (Local)",
   "language": "python",
   "name": "pyspark_local"
  },
  "language_info": {
   "codemirror_mode": {
    "name": "ipython",
    "version": 3
   },
   "file_extension": ".py",
   "mimetype": "text/x-python",
   "name": "python",
   "nbconvert_exporter": "python",
   "pygments_lexer": "ipython3",
   "version": "3.7.12"
  }
 },
 "nbformat": 4,
 "nbformat_minor": 5
}
