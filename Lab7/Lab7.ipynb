{
 "cells": [
  {
   "cell_type": "code",
   "execution_count": 1,
   "id": "654185f1-5a0a-435b-b3cb-13a121662783",
   "metadata": {},
   "outputs": [],
   "source": [
    "from datetime import datetime "
   ]
  },
  {
   "cell_type": "code",
   "execution_count": 2,
   "id": "3753964c-27a2-45c7-b7d3-74d1f7137ca9",
   "metadata": {},
   "outputs": [],
   "source": [
    "# Set input and output folders \n",
    "inputPath1 = \"/data/students/bigdata-01QYD/Lab7_DBD/register.csv\"\n",
    "inputPath2 = \"/data/students/bigdata-01QYD/Lab7_DBD/stations.csv\"\n",
    "threshold  = 0.6\n",
    "outputPath = \"Lab7/res_Lab_7\""
   ]
  },
  {
   "cell_type": "code",
   "execution_count": 3,
   "id": "8248630a-4fa1-40ce-ba32-5cc9173b4bda",
   "metadata": {},
   "outputs": [],
   "source": [
    "registerRDD_Header_wrongData = sc.textFile(inputPath1)\n",
    "\n",
    "def cleanData(line):\n",
    "    if line.startswith('s'):\n",
    "        return False\n",
    "    else:\n",
    "        fields = line.split(\"\\t\")\n",
    "        usedslots = int(fields[2])\n",
    "        freeslots = int(fields[3])\n",
    "        if usedslots == 0 and freeslots == 0:\n",
    "            return False\n",
    "        else:\n",
    "            return True\n",
    "    \n",
    "registerRDD = registerRDD_Header_wrongData.filter(cleanData)"
   ]
  },
  {
   "cell_type": "code",
   "execution_count": 4,
   "id": "5e62e66c-db40-4340-9305-b7d384cca720",
   "metadata": {},
   "outputs": [],
   "source": [
    "def checkFull(line):\n",
    "    fields = line.split(\"\\t\")\n",
    "    stationId = fields[0]\n",
    "    timestamp = fields[1]\n",
    "    freeslots = int(fields[3])\n",
    "    \n",
    "    datetimeObject = datetime.strptime(timestamp, \"%Y-%m-%d %H:%M:%S\")    \n",
    "    dayOfTheWeek = datetimeObject.strftime(\"%A\")\n",
    "    hour = datetimeObject.hour\n",
    "    \n",
    "    if freeslots == 0:\n",
    "        countReadingsFull = (1,1)\n",
    "    else:\n",
    "        countReadingsFull = (1,0)\n",
    "\n",
    "    return ((stationId, dayOfTheWeek, hour), countReadingsFull)\n",
    "\n",
    "\n",
    "stationWeekDayHour = registerRDD.map(checkFull)"
   ]
  },
  {
   "cell_type": "code",
   "execution_count": 5,
   "id": "956ea169-33db-4f22-9f26-630f7b60bbd1",
   "metadata": {},
   "outputs": [],
   "source": [
    "#Merge samke key\n",
    "stationWeekDayHourCount = stationWeekDayHour.reduceByKey(lambda c1, c2: (c1[0]+c2[0], c1[1]+c2[1]))\n",
    "#Check for criticality\n",
    "stationWeekDayHourCriticality = stationWeekDayHourCount.mapValues(lambda value: value[1]/value[0])\n",
    "#Discard critic values\n",
    "stationWeekDayHour_Critic = stationWeekDayHourCriticality.filter(lambda line: line[1]>= threshold)\n",
    "\n",
    "#Change the structure of the RDD\n",
    "station_WeekDayHourCritic = stationWeekDayHour_Critic.map(lambda line: (line[0][0],(line[0][1],line[0][2],line[1])))"
   ]
  },
  {
   "cell_type": "code",
   "execution_count": 6,
   "id": "c8116fef-dfea-4dd9-b608-304b721a47da",
   "metadata": {},
   "outputs": [],
   "source": [
    "def compareCriticality(line1,line2):\n",
    "    weekday1=line1[0]\n",
    "    weekday2=line2[0]\n",
    "    \n",
    "    hour1=line1[1]\n",
    "    hour2=line2[1]\n",
    "    \n",
    "    critic1=line1[2]\n",
    "    critic2=line2[2]\n",
    "    \n",
    "    if (critic1>critic2) or (critic1==critic2 and hour1<hour2) or (critic1==critic2 and weekday1<weekday2):\n",
    "        return line1\n",
    "    else:\n",
    "        return line2\n",
    "\n",
    "\n",
    "stationMostCritic = station_WeekDayHourCritic.reduceByKey(compareCriticality)"
   ]
  },
  {
   "cell_type": "code",
   "execution_count": 7,
   "id": "29d7d6f0-8b09-48c8-9474-cf638622df5f",
   "metadata": {},
   "outputs": [],
   "source": [
    "StationsRDD = sc.textFile(inputPath2)\n",
    "\n",
    "def longitudeLatitude(line):\n",
    "    fields=line.split(\"\\t\")\n",
    "    return (fields[0],(fields[1],fields[2]))\n",
    "\n",
    "stationIdLongitudeLatitude=StationsRDD.map(longitudeLatitude)"
   ]
  },
  {
   "cell_type": "code",
   "execution_count": 8,
   "id": "ba7ba1dc-726b-4ebc-9086-96685f5bd5d2",
   "metadata": {},
   "outputs": [],
   "source": [
    "resultLocations = stationMostCritic.join(stationIdLongitudeLatitude)"
   ]
  },
  {
   "cell_type": "code",
   "execution_count": 9,
   "id": "35d317f8-299c-4807-a71a-73ec59ea5a71",
   "metadata": {},
   "outputs": [],
   "source": [
    "# Return a string that represents a KML marker\n",
    "def formatKMLMarker(pair):\n",
    "    # input\n",
    "    # (stationId, ( (weekday, hour, criticality), (long, lat) ) )\n",
    "    stationId = pair[0]\n",
    "    \n",
    "    weekday = pair[1][0][0]\n",
    "    hour = pair[1][0][1]\n",
    "    criticality = pair[1][0][2]\n",
    "    coordinates = pair[1][1][0]+\",\"+pair[1][1][1]\n",
    "    \n",
    "    result = \"<Placemark><name>\" + stationId + \"</name>\" + \"<ExtendedData>\"\\\n",
    "    + \"<Data name=\\\"DayWeek\\\"><value>\" + weekday + \"</value></Data>\"\\\n",
    "    + \"<Data name=\\\"Hour\\\"><value>\" + str(hour) + \"</value></Data>\"\\\n",
    "    + \"<Data name=\\\"Criticality\\\"><value>\" + str(criticality) + \"</value></Data>\"\\\n",
    "    + \"</ExtendedData>\" + \"<Point>\" + \"<coordinates>\" + coordinates + \"</coordinates>\"\\\n",
    "    + \"</Point>\" + \"</Placemark>\"\n",
    "    \n",
    "    return result\n",
    "\n",
    "\n",
    "resultKML = resultLocations.map(formatKMLMarker)"
   ]
  },
  {
   "cell_type": "code",
   "execution_count": 10,
   "id": "46c10075-77bb-4ccb-8bab-c9e3e0d654c4",
   "metadata": {},
   "outputs": [
    {
     "name": "stderr",
     "output_type": "stream",
     "text": [
      "                                                                                \r"
     ]
    }
   ],
   "source": [
    "resultKML.coalesce(1).saveAsTextFile(outputPath)"
   ]
  },
  {
   "cell_type": "code",
   "execution_count": null,
   "id": "4af13373-c057-4eca-ab26-87dd09d83bd3",
   "metadata": {},
   "outputs": [],
   "source": []
  }
 ],
 "metadata": {
  "kernelspec": {
   "display_name": "PySpark (Local)",
   "language": "python",
   "name": "pyspark_local"
  },
  "language_info": {
   "codemirror_mode": {
    "name": "ipython",
    "version": 3
   },
   "file_extension": ".py",
   "mimetype": "text/x-python",
   "name": "python",
   "nbconvert_exporter": "python",
   "pygments_lexer": "ipython3",
   "version": "3.7.12"
  }
 },
 "nbformat": 4,
 "nbformat_minor": 5
}
