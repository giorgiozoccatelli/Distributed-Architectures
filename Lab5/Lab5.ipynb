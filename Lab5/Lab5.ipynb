{
 "cells": [
  {
   "cell_type": "code",
   "execution_count": 1,
   "id": "70887fa3-6964-40b4-b2ee-3bb2d3141775",
   "metadata": {},
   "outputs": [],
   "source": [
    "# Set input and output folders\n",
    "# I also define a variable containing the prefix I am interested in\n",
    "inputPath  = \"/data/students/bigdata-01QYD/Lab2/\"\n",
    "outputPath = \"res_out_Lab2/\" \n",
    "prefix = \"ho\""
   ]
  },
  {
   "cell_type": "code",
   "execution_count": 2,
   "id": "ec34e8c8-397e-4df6-86ac-eb71f4425b3b",
   "metadata": {},
   "outputs": [],
   "source": [
    "# Read input data\n",
    "wordsFrequenciesRDD = sc.textFile(inputPath)"
   ]
  },
  {
   "cell_type": "markdown",
   "id": "976d0016-8a2e-4ec9-a203-f75b12cc5bd7",
   "metadata": {},
   "source": [
    "# Task 1\n",
    "Keep only the lines containing words that start with the prefix “ho” and then print the following statistics:\n",
    "- The number of selected lines\n",
    "- The maximum frequency among the ones of the selected lines"
   ]
  },
  {
   "cell_type": "code",
   "execution_count": null,
   "id": "e2ac91f4-7a76-4617-8464-3d5879f7e62a",
   "metadata": {},
   "outputs": [],
   "source": [
    "# Keep only the lines containing words that start with the prefix “ho”\n",
    "selectedLinesRDD = wordsFrequenciesRDD.filter(lambda line: line.startswith(prefix))"
   ]
  },
  {
   "cell_type": "code",
   "execution_count": null,
   "id": "d5f6fb26-a21a-4b76-8505-c1aa0f5baedf",
   "metadata": {
    "tags": []
   },
   "outputs": [
    {
     "name": "stdout",
     "output_type": "stream",
     "text": [
      "Num. selected lines: 1913\n"
     ]
    }
   ],
   "source": [
    "# Print the the number of selected lines\n",
    "numLines = selectedLinesRDD.count()\n",
    "print(\"Num. selected lines: \"+ str(numLines) ) "
   ]
  },
  {
   "cell_type": "code",
   "execution_count": null,
   "id": "6390fdce-2682-4ea1-84c2-a766dc7a8a54",
   "metadata": {},
   "outputs": [
    {
     "name": "stdout",
     "output_type": "stream",
     "text": [
      "Maximum frequency: 39399.0\n"
     ]
    }
   ],
   "source": [
    "# Print the maximum frequency among the ones of the selected lines\n",
    "\n",
    "# Select the values of frequency\n",
    "maxfreqRDD = selectedLinesRDD.map(lambda line: float(line.split(\"\\t\")[1]))\n",
    "\n",
    "# Compute the maximu value\n",
    "maxfreq = maxfreqRDD.reduce(lambda freq1, freq2: max(freq1, freq2) )\n",
    "\n",
    "# Print maxfreq on the standard output\n",
    "print(\"Maximum frequency: \"+ str(maxfreq) ) "
   ]
  },
  {
   "cell_type": "markdown",
   "id": "13e1ea4c-bd86-4b82-bd64-7e389a545297",
   "metadata": {},
   "source": [
    "# Task 2\n",
    "Select those lines that contain words with a frequency greater than 80% of the maximum frequency computed before. Finally, compute the following statistics:\n",
    "- Count the number of selected lines and print this number on the standard output\n",
    "- Save the selected words (without frequency) in an output folder (one word per line)"
   ]
  },
  {
   "cell_type": "code",
   "execution_count": 7,
   "id": "ff0ad94a-5c56-4010-a777-5ae4197873d0",
   "metadata": {},
   "outputs": [],
   "source": [
    "# Keep only the lines with a frequency freq greater than 0.8*maxfreq.\n",
    "selectedLinesMaxFreqRDD = selectedLinesRDD.filter(lambda line: float(line.split(\"\\t\")[1])>0.8*maxfreq)"
   ]
  },
  {
   "cell_type": "code",
   "execution_count": 8,
   "id": "a3b0b461-081c-46f3-96c3-d106fcbc2593",
   "metadata": {},
   "outputs": [
    {
     "name": "stdout",
     "output_type": "stream",
     "text": [
      "Num. selected lines with freq > 0.8*maxfreq: 3\n"
     ]
    }
   ],
   "source": [
    "# Count the number of selected lines and print this number on the standard output\n",
    "numLinesMaxfreq = selectedLinesMaxFreqRDD.count()\n",
    "print(\"Num. selected lines with freq > 0.8*maxfreq: \"+ str(numLinesMaxfreq) ) "
   ]
  },
  {
   "cell_type": "code",
   "execution_count": 9,
   "id": "1423061a-13d8-42ea-8845-69f6619c3553",
   "metadata": {},
   "outputs": [],
   "source": [
    "# Select only the words (first field)\n",
    "selectedWordsRDD = selectedLinesMaxFreqRDD.map(lambda line: line.split(\"\\t\")[0])"
   ]
  },
  {
   "cell_type": "code",
   "execution_count": 10,
   "id": "521d5fc2-780d-4662-ab87-643676aa75e8",
   "metadata": {},
   "outputs": [],
   "source": [
    "# Save the selected words (without frequency) in an output folder (one word per line)\n",
    "selectedWordsRDD.saveAsTextFile(outputPath)"
   ]
  }
 ],
 "metadata": {
  "kernelspec": {
   "display_name": "PySpark (Local)",
   "language": "python",
   "name": "pyspark_local"
  },
  "language_info": {
   "codemirror_mode": {
    "name": "ipython",
    "version": 3
   },
   "file_extension": ".py",
   "mimetype": "text/x-python",
   "name": "python",
   "nbconvert_exporter": "python",
   "pygments_lexer": "ipython3",
   "version": "3.7.12"
  }
 },
 "nbformat": 4,
 "nbformat_minor": 5
}
