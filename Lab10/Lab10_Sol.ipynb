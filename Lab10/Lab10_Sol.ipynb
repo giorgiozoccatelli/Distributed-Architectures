{
 "cells": [
  {
   "cell_type": "code",
   "execution_count": 1,
   "metadata": {},
   "outputs": [],
   "source": [
    "from graphframes import GraphFrame\n",
    "from pyspark.sql.functions import *\n",
    "from pyspark.sql.types import MapType"
   ]
  },
  {
   "cell_type": "code",
   "execution_count": 2,
   "metadata": {},
   "outputs": [],
   "source": [
    "inputPathAirports = \"/data/students/bigdata-01QYD/Lab10_DBD/airports.csv\"\n",
    "inputPathRoutes = \"/data/students/bigdata-01QYD/Lab10_DBD/routes.csv\"\n",
    "#inputPathAirports = \"data/airports.csv\"\n",
    "#inputPathRoutes = \"data/routes.csv\"\n",
    "outputPath = \"resLab10/\""
   ]
  },
  {
   "cell_type": "code",
   "execution_count": 3,
   "metadata": {},
   "outputs": [
    {
     "name": "stderr",
     "output_type": "stream",
     "text": [
      "                                                                                \r"
     ]
    }
   ],
   "source": [
    "# Read the content of airports.csv\n",
    "airportsDF = spark.read.load(inputPathAirports,\\\n",
    "                             format=\"csv\",\n",
    "                             header=True,\\\n",
    "                             inferSchema=True)"
   ]
  },
  {
   "cell_type": "code",
   "execution_count": 4,
   "metadata": {},
   "outputs": [],
   "source": [
    "#airportsDF.printSchema()\n",
    "#airportsDF.show(2)"
   ]
  },
  {
   "cell_type": "code",
   "execution_count": 5,
   "metadata": {},
   "outputs": [
    {
     "name": "stderr",
     "output_type": "stream",
     "text": [
      "                                                                                \r"
     ]
    }
   ],
   "source": [
    "# Read the content of routes.csv\n",
    "routesDF = spark.read.load(inputPathRoutes,\\\n",
    "                             format=\"csv\",\n",
    "                             header=True,\\\n",
    "                             inferSchema=True)"
   ]
  },
  {
   "cell_type": "code",
   "execution_count": 6,
   "metadata": {},
   "outputs": [],
   "source": [
    "#routesDF.printSchema()\n",
    "#routesDF.show(2)"
   ]
  },
  {
   "cell_type": "code",
   "execution_count": 7,
   "metadata": {},
   "outputs": [],
   "source": [
    "# Remove the records with missing values\n",
    "cleanedRoutesDF = routesDF\\\n",
    ".filter(\"airport_source_id IS NOT NULL AND airport_destination_id IS NOT NULL\")"
   ]
  },
  {
   "cell_type": "code",
   "execution_count": 8,
   "metadata": {},
   "outputs": [],
   "source": [
    "# Create the DataFrame associated with the vertexes of the graph\n",
    "# One vertex per airport\n",
    "# Cast id from integer to string\n",
    "vertexesDF = airportsDF.withColumn(\"id\", airportsDF.id.cast(\"string\"))"
   ]
  },
  {
   "cell_type": "code",
   "execution_count": 9,
   "metadata": {},
   "outputs": [],
   "source": [
    "#vertexesDF.printSchema()\n",
    "#vertexesDF.show(2)"
   ]
  },
  {
   "cell_type": "code",
   "execution_count": 10,
   "metadata": {},
   "outputs": [],
   "source": [
    "# Create the DataFrame associated with the edges of the graph\n",
    "# One vertex per record of cleanedRoutesDF\n",
    "# We are interersted only in two columns: \n",
    "# - airport_source_id\n",
    "# - airport_destination_id\n",
    "# Apply the cast operation also on these two columns\n",
    "# Rename the two colums\n",
    "# - airport_source_id -> src\n",
    "# - airport_destination_id -> dst\n",
    "edgesDF = cleanedRoutesDF.select(\"airport_source_id\",\"airport_destination_id\")\\\n",
    ".withColumn(\"airport_source_id\", cleanedRoutesDF.airport_source_id.cast(\"string\"))\\\n",
    ".withColumn(\"airport_destination_id\", cleanedRoutesDF.airport_destination_id.cast(\"string\"))\\\n",
    ".withColumnRenamed(\"airport_source_id\",\"src\")\\\n",
    ".withColumnRenamed(\"airport_destination_id\",\"dst\")"
   ]
  },
  {
   "cell_type": "code",
   "execution_count": 11,
   "metadata": {},
   "outputs": [],
   "source": [
    "#edgesDF.printSchema()\n",
    "#edgesDF.show()"
   ]
  },
  {
   "cell_type": "code",
   "execution_count": 12,
   "metadata": {},
   "outputs": [],
   "source": [
    "# Create the graph\n",
    "g = GraphFrame(vertexesDF, edgesDF).cache()"
   ]
  },
  {
   "cell_type": "code",
   "execution_count": 13,
   "metadata": {},
   "outputs": [],
   "source": [
    "#\n",
    "#\n",
    "# Task 1\n",
    "#\n",
    "#\n",
    "\n",
    "# Show on the standard output the top-10 airports by in degree. \n",
    "# For each of selected airports show the name of the airport, its ID, and its in degree."
   ]
  },
  {
   "cell_type": "code",
   "execution_count": 14,
   "metadata": {},
   "outputs": [],
   "source": [
    "# Retrieve the in degree for each airport\n",
    "airportIndegree = g.inDegrees"
   ]
  },
  {
   "cell_type": "code",
   "execution_count": 15,
   "metadata": {},
   "outputs": [
    {
     "name": "stderr",
     "output_type": "stream",
     "text": [
      "                                                                                \r"
     ]
    }
   ],
   "source": [
    "# Create an RDD based on the content of the DataFrame and then apply top\n",
    "listTop10Airports = airportIndegree.rdd.top(10, key=lambda row: row.inDegree)\n",
    "\n",
    "# Create a DataFramfrom the python list listTop10Airports\n",
    "top10AirportsDF = spark.createDataFrame(listTop10Airports, airportIndegree.schema)"
   ]
  },
  {
   "cell_type": "code",
   "execution_count": 16,
   "metadata": {},
   "outputs": [],
   "source": [
    "#top10AirportsDF.printSchema()\n",
    "#top10AirportsDF.show()"
   ]
  },
  {
   "cell_type": "code",
   "execution_count": 17,
   "metadata": {},
   "outputs": [],
   "source": [
    "# Use join to retrieve the name of each airport\n",
    "top10AirportsNamesDF = top10AirportsDF.join(g.vertices, top10AirportsDF.id == g.vertices.id)\\\n",
    ".select(top10AirportsDF.id, top10AirportsDF.inDegree, g.vertices.name)"
   ]
  },
  {
   "cell_type": "code",
   "execution_count": 18,
   "metadata": {},
   "outputs": [
    {
     "name": "stderr",
     "output_type": "stream",
     "text": [
      "[Stage 8:==============>                                            (1 + 3) / 4]"
     ]
    },
    {
     "name": "stdout",
     "output_type": "stream",
     "text": [
      "+----+--------+------------------------------------------------+\n",
      "|id  |inDegree|name                                            |\n",
      "+----+--------+------------------------------------------------+\n",
      "|3682|911     |Hartsfield Jackson Atlanta International Airport|\n",
      "|3830|550     |Chicago O'Hare International Airport            |\n",
      "|3364|534     |Beijing Capital International Airport           |\n",
      "|507 |522     |London Heathrow Airport                         |\n",
      "|1382|517     |Charles de Gaulle International Airport         |\n",
      "|3484|498     |Los Angeles International Airport               |\n",
      "|340 |493     |Frankfurt am Main Airport                       |\n",
      "|3670|467     |Dallas Fort Worth International Airport         |\n",
      "|3797|455     |John F Kennedy International Airport            |\n",
      "|580 |450     |Amsterdam Airport Schiphol                      |\n",
      "+----+--------+------------------------------------------------+\n",
      "\n"
     ]
    },
    {
     "name": "stderr",
     "output_type": "stream",
     "text": [
      "                                                                                \r"
     ]
    }
   ],
   "source": [
    "top10AirportsNamesDF.show(10, truncate=False)"
   ]
  },
  {
   "cell_type": "code",
   "execution_count": 19,
   "metadata": {},
   "outputs": [],
   "source": [
    "#######################################\n",
    "# Alternative solution based on limit #\n",
    "#######################################"
   ]
  },
  {
   "cell_type": "code",
   "execution_count": 20,
   "metadata": {},
   "outputs": [],
   "source": [
    "# Retrieve the in degree for each airport\n",
    "airportIndegree = g.inDegrees"
   ]
  },
  {
   "cell_type": "code",
   "execution_count": 21,
   "metadata": {},
   "outputs": [],
   "source": [
    "# Sort airports by in degree and then use limit to select only the first 10 rows\n",
    "top10AirportsDF = airportIndegree.sort(airportIndegree.inDegree.desc()).limit(10)"
   ]
  },
  {
   "cell_type": "code",
   "execution_count": 22,
   "metadata": {},
   "outputs": [],
   "source": [
    "#top10AirportsDF.printSchema()\n",
    "#top10AirportsDF.show()"
   ]
  },
  {
   "cell_type": "code",
   "execution_count": 23,
   "metadata": {},
   "outputs": [],
   "source": [
    "# Use join to retrieve the name of each airport\n",
    "top10AirportsNamesDF = top10AirportsDF.join(g.vertices, top10AirportsDF.id == g.vertices.id)\\\n",
    ".select(top10AirportsDF.id, top10AirportsDF.inDegree, g.vertices.name)"
   ]
  },
  {
   "cell_type": "code",
   "execution_count": 24,
   "metadata": {},
   "outputs": [
    {
     "name": "stderr",
     "output_type": "stream",
     "text": [
      "                                                                                \r"
     ]
    },
    {
     "name": "stdout",
     "output_type": "stream",
     "text": [
      "+----+--------+------------------------------------------------+\n",
      "|id  |inDegree|name                                            |\n",
      "+----+--------+------------------------------------------------+\n",
      "|340 |493     |Frankfurt am Main Airport                       |\n",
      "|507 |522     |London Heathrow Airport                         |\n",
      "|580 |450     |Amsterdam Airport Schiphol                      |\n",
      "|1382|517     |Charles de Gaulle International Airport         |\n",
      "|3364|534     |Beijing Capital International Airport           |\n",
      "|3484|498     |Los Angeles International Airport               |\n",
      "|3670|467     |Dallas Fort Worth International Airport         |\n",
      "|3682|911     |Hartsfield Jackson Atlanta International Airport|\n",
      "|3797|455     |John F Kennedy International Airport            |\n",
      "|3830|550     |Chicago O'Hare International Airport            |\n",
      "+----+--------+------------------------------------------------+\n",
      "\n"
     ]
    }
   ],
   "source": [
    "top10AirportsNamesDF.show(10, truncate=False)"
   ]
  },
  {
   "cell_type": "code",
   "execution_count": 25,
   "metadata": {},
   "outputs": [],
   "source": [
    "# End of alternative solution"
   ]
  },
  {
   "cell_type": "code",
   "execution_count": null,
   "metadata": {},
   "outputs": [],
   "source": []
  },
  {
   "cell_type": "code",
   "execution_count": 26,
   "metadata": {},
   "outputs": [],
   "source": [
    "#\n",
    "#\n",
    "# Task 2\n",
    "#\n",
    "#\n",
    "\n",
    "# The Turin airport has id = 1526\n",
    "# How many airports are reachable from Turin taking exactly 1 flight?\n",
    "# How many airports are reachable from Turin taking exactly 2 flights?\n",
    "# How many airports are reachable from Turin taking exactly 3 flights?\n",
    "# Print the results on the standard output."
   ]
  },
  {
   "cell_type": "code",
   "execution_count": 27,
   "metadata": {},
   "outputs": [
    {
     "name": "stderr",
     "output_type": "stream",
     "text": [
      "[Stage 14:=====================================================>(199 + 1) / 200]"
     ]
    },
    {
     "name": "stdout",
     "output_type": "stream",
     "text": [
      "How many distinct airports are reachable from Turin taking exactly 1 flight? 29\n"
     ]
    },
    {
     "name": "stderr",
     "output_type": "stream",
     "text": [
      "                                                                                \r"
     ]
    }
   ],
   "source": [
    "# How many airports are reachable from Turin taking exactly 1 flight?\n",
    "print(\"How many distinct airports are reachable from Turin taking exactly 1 flight? \"\\\n",
    "      +str(g.edges.filter(\"src=1526\").select(\"dst\").distinct().count()))"
   ]
  },
  {
   "cell_type": "code",
   "execution_count": 28,
   "metadata": {},
   "outputs": [],
   "source": [
    "# How many airports are reachable from Turin taking exactly 2 flights?\n",
    "# Find the paths airport(Turin) -> airport -> airport\n",
    "paths2flightsDF = g.find(\"(a1)-[]->(a2);(a2)-[]->(a3)\")"
   ]
  },
  {
   "cell_type": "code",
   "execution_count": 29,
   "metadata": {},
   "outputs": [],
   "source": [
    "# Select only the flights from Turin and discard those with Turin as final Airport\n",
    "selectedPathsDF = paths2flightsDF.filter(\"a1.id=1526 and a3.id<>1526\")"
   ]
  },
  {
   "cell_type": "code",
   "execution_count": 30,
   "metadata": {},
   "outputs": [
    {
     "name": "stderr",
     "output_type": "stream",
     "text": [
      "24/05/30 19:11:26 WARN util.Utils: Truncated the string representation of a plan since it was too large. This behavior can be adjusted by setting 'spark.debug.maxToStringFields' in SparkEnv.conf.\n",
      "[Stage 21:===================================================>  (191 + 2) / 200]"
     ]
    },
    {
     "name": "stdout",
     "output_type": "stream",
     "text": [
      "How many distinct airports are reachable from Turin taking exactly 2 flights? 589\n"
     ]
    },
    {
     "name": "stderr",
     "output_type": "stream",
     "text": [
      "                                                                                \r"
     ]
    }
   ],
   "source": [
    "print(\"How many distinct airports are reachable from Turin taking exactly 2 flights? \"\\\n",
    "      +str(selectedPathsDF.select(\"a3\").distinct().count()))"
   ]
  },
  {
   "cell_type": "code",
   "execution_count": 31,
   "metadata": {},
   "outputs": [],
   "source": [
    "# How many airports are reachable from Turin taking exactly 3 flights?\n",
    "# Find the paths airport(Turin) -> airport -> airport\n",
    "paths3flightsDF = g.find(\"(a1)-[]->(a2);(a2)-[]->(a3);(a3)-[]->(a4)\")"
   ]
  },
  {
   "cell_type": "code",
   "execution_count": 32,
   "metadata": {},
   "outputs": [],
   "source": [
    "# Select only the flights from Turin and discard those with Turin as final Airport\n",
    "selectedPathsDF = paths3flightsDF.filter(\"a1.id=1526 and a4.id<>1526\")"
   ]
  },
  {
   "cell_type": "code",
   "execution_count": 33,
   "metadata": {},
   "outputs": [
    {
     "name": "stderr",
     "output_type": "stream",
     "text": [
      "[Stage 30:=============================================>        (168 + 2) / 200]"
     ]
    },
    {
     "name": "stdout",
     "output_type": "stream",
     "text": [
      "How many distinct airports are reachable from Turin taking exactly 3 flights? 2209\n"
     ]
    },
    {
     "name": "stderr",
     "output_type": "stream",
     "text": [
      "                                                                                \r"
     ]
    }
   ],
   "source": [
    "print(\"How many distinct airports are reachable from Turin taking exactly 3 flights? \"\\\n",
    "      +str(selectedPathsDF.select(\"a4\").distinct().count()))"
   ]
  },
  {
   "cell_type": "code",
   "execution_count": null,
   "metadata": {},
   "outputs": [],
   "source": []
  },
  {
   "cell_type": "code",
   "execution_count": 34,
   "metadata": {},
   "outputs": [],
   "source": [
    "#\n",
    "#\n",
    "# Task 3\n",
    "#\n",
    "#\n",
    "\n",
    "# Compute the shortest path length from each airport in the dataset to the Turin airport\n",
    "# (id = 1526).\n",
    "# Show the result on the standard output.\n",
    "# What is the farther airport(s) from Turin, in terms of number of hops?"
   ]
  },
  {
   "cell_type": "code",
   "execution_count": 35,
   "metadata": {},
   "outputs": [
    {
     "name": "stderr",
     "output_type": "stream",
     "text": [
      "                                                                                \r"
     ]
    }
   ],
   "source": [
    "# Compute the shortest path length from each airport in the dataset to the Turin airport \n",
    "# (id = 1526).\n",
    "shortestPathsDF = g.shortestPaths([\"1526\"])"
   ]
  },
  {
   "cell_type": "code",
   "execution_count": 36,
   "metadata": {},
   "outputs": [],
   "source": [
    "#shortestPathsDF.printSchema()\n",
    "#shortestPathsDF.select(\"id\", \"distances\").show(10)"
   ]
  },
  {
   "cell_type": "code",
   "execution_count": 38,
   "metadata": {},
   "outputs": [],
   "source": [
    "# Select only the airport that are reachable from Turin\n",
    "selectedPathsDF = shortestPathsDF\\\n",
    ".filter(\"distances['1526'] IS NOT NULL\")\\\n",
    ".selectExpr(\"name\", \"city\", \"country\", \"distances['1526'] as numHops\")"
   ]
  },
  {
   "cell_type": "code",
   "execution_count": 39,
   "metadata": {},
   "outputs": [
    {
     "name": "stderr",
     "output_type": "stream",
     "text": [
      "                                                                                \r"
     ]
    }
   ],
   "source": [
    "# Select the maximum value of numHops\n",
    "maxNumHops=selectedPathsDF.agg({\"numHops\":\"max\"})\\\n",
    ".withColumnRenamed(\"max(numHops)\", \"maxHops\").first().maxHops"
   ]
  },
  {
   "cell_type": "code",
   "execution_count": 40,
   "metadata": {},
   "outputs": [],
   "source": [
    "#maxNumHops"
   ]
  },
  {
   "cell_type": "code",
   "execution_count": 41,
   "metadata": {},
   "outputs": [
    {
     "name": "stderr",
     "output_type": "stream",
     "text": [
      "                                                                                \r"
     ]
    },
    {
     "name": "stdout",
     "output_type": "stream",
     "text": [
      "+-----------------+---------+-------+-------+\n",
      "|             name|     city|country|numHops|\n",
      "+-----------------+---------+-------+-------+\n",
      "|Peawanuck Airport|Peawanuck| Canada|      8|\n",
      "+-----------------+---------+-------+-------+\n",
      "\n"
     ]
    }
   ],
   "source": [
    "# What is the farther airport(s) from Turin, in terms of number of hops?\n",
    "# For the selected airport(s), show on the standard output \n",
    "# its name, its city and country, and the shortest path length to Turin (i.e., number of hops).\n",
    "selectedPathsDF.filter(\"numHops=\"+str(maxNumHops)).show()"
   ]
  },
  {
   "cell_type": "code",
   "execution_count": null,
   "metadata": {},
   "outputs": [],
   "source": []
  },
  {
   "cell_type": "code",
   "execution_count": 42,
   "metadata": {},
   "outputs": [],
   "source": [
    "#\n",
    "#\n",
    "# Task 4\n",
    "#\n",
    "#\n",
    "\n",
    "# How many connected components of at least two airports are there in the graph?"
   ]
  },
  {
   "cell_type": "code",
   "execution_count": 43,
   "metadata": {},
   "outputs": [
    {
     "name": "stderr",
     "output_type": "stream",
     "text": [
      "24/05/30 19:13:56 WARN spark.SparkContext: Spark is not running in local mode, therefore the checkpoint directory must not be on the local filesystem. Directory 'tmp_ckpts' appears to be on the local filesystem.\n"
     ]
    }
   ],
   "source": [
    "# Set checkpoint folder\n",
    "sc.setCheckpointDir(\"tmp_ckpts\")"
   ]
  },
  {
   "cell_type": "code",
   "execution_count": 44,
   "metadata": {},
   "outputs": [
    {
     "name": "stderr",
     "output_type": "stream",
     "text": [
      "                                                                                \r"
     ]
    }
   ],
   "source": [
    "connectedComponenets = g.connectedComponents()"
   ]
  },
  {
   "cell_type": "code",
   "execution_count": 45,
   "metadata": {},
   "outputs": [],
   "source": [
    "# Count the number of vertex per component and select only the components with at least two vertexes\n",
    "connectedComponenetsAtLeatTwo = connectedComponenets.groupBy(\"component\").count().filter(\"count>1\")"
   ]
  },
  {
   "cell_type": "code",
   "execution_count": 46,
   "metadata": {},
   "outputs": [
    {
     "name": "stderr",
     "output_type": "stream",
     "text": [
      "[Stage 579:==========================================>         (165 + 16) / 200]"
     ]
    },
    {
     "name": "stdout",
     "output_type": "stream",
     "text": [
      "How many connected components of at least two airports are there in the graph? 7\n"
     ]
    },
    {
     "name": "stderr",
     "output_type": "stream",
     "text": [
      "                                                                                \r"
     ]
    }
   ],
   "source": [
    "# Count the number of selected components\n",
    "print(\"How many connected components of at least two airports are there in the graph? \"\\\n",
    "      +str(connectedComponenetsAtLeatTwo.count()))\n"
   ]
  },
  {
   "cell_type": "code",
   "execution_count": null,
   "metadata": {},
   "outputs": [],
   "source": []
  }
 ],
 "metadata": {
  "kernelspec": {
   "display_name": "GraphFrames (Yarn)",
   "language": "python",
   "name": "graphframe_yarn"
  },
  "language_info": {
   "codemirror_mode": {
    "name": "ipython",
    "version": 3
   },
   "file_extension": ".py",
   "mimetype": "text/x-python",
   "name": "python",
   "nbconvert_exporter": "python",
   "pygments_lexer": "ipython3",
   "version": "3.7.12"
  }
 },
 "nbformat": 4,
 "nbformat_minor": 4
}
