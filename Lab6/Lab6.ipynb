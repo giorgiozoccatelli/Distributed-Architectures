{
 "cells": [
  {
   "cell_type": "code",
   "execution_count": 1,
   "id": "4afcfe84-e3e0-4146-a029-55252ab8b4a5",
   "metadata": {},
   "outputs": [],
   "source": [
    "# Set input and output folders \n",
    "inputPath = \"/data/students/bigdata-01QYD/Lab6_DBD/Reviews.csv\"\n",
    "outputPath = \"Lab6/res_Lab_6\""
   ]
  },
  {
   "cell_type": "code",
   "execution_count": 2,
   "id": "931b45c7-e6f1-4dc4-8c94-5cad0a23fef6",
   "metadata": {},
   "outputs": [],
   "source": [
    "# Read input data\n",
    "listAmazonRDD = sc.textFile(inputPath)"
   ]
  },
  {
   "cell_type": "markdown",
   "id": "bda5428e-6279-4c79-892b-7d0075c90596",
   "metadata": {},
   "source": [
    "# Task 1\n",
    "- Transposes the original Amazon food dataset, obtaining an RDD of pairs (tuples) of the type: (user_id, list of the product_ids reviewed by user_id)\n",
    "- Counts the frequencies of all the pairs of products reviewed together\n",
    "- Stores on the output folder all the pairs of products that appear more than once and their frequencies. The pairs of products must be sorted by decreasing frequency. "
   ]
  },
  {
   "cell_type": "code",
   "execution_count": 3,
   "id": "0db9df65-ba08-4ed0-a709-1831cb75e8f6",
   "metadata": {},
   "outputs": [],
   "source": [
    "# Discard the header\n",
    "listAmazonRDD_noHeader = listAmazonRDD.filter(lambda line : line.startswith(\"Id,\")==False)"
   ]
  },
  {
   "cell_type": "code",
   "execution_count": 4,
   "id": "2b27f785-696a-4799-be4a-c42514a72d1b",
   "metadata": {},
   "outputs": [],
   "source": [
    "# Create new RDD\n",
    "def extractUserID_ProductIDs(line):\n",
    "    columns = line.split(\",\")\n",
    "    userID = columns[2]\n",
    "    productID = columns[1]\n",
    "    \n",
    "    return (userID, productID)\n",
    "\n",
    "UserID_ProductID_RDD = listAmazonRDD_noHeader.map(extractUserID_ProductIDs)\n",
    "UserID_ProductID_distinctRDD = UserID_ProductID_RDD.distinct()\n",
    "UserID_ProductID_ProductListRDD = UserID_ProductID_distinctRDD.groupByKey()"
   ]
  },
  {
   "cell_type": "code",
   "execution_count": 5,
   "id": "fc91ab61-2699-4f26-9384-02a360a34363",
   "metadata": {
    "collapsed": true,
    "jupyter": {
     "outputs_hidden": true
    },
    "tags": []
   },
   "outputs": [
    {
     "name": "stderr",
     "output_type": "stream",
     "text": [
      "                                                                                \r"
     ]
    }
   ],
   "source": [
    "ProductID_ValuesRDD = UserID_ProductID_ProductListRDD.values()\n",
    "\n",
    "def extractPairsOfProducts(transaction):\n",
    "\n",
    "    products = list(transaction)\n",
    "\n",
    "    returnedPairs = []\n",
    "    \n",
    "    for product1 in products:\n",
    "        for product2 in products:\n",
    "            if product1<product2:\n",
    "                returnedPairs.append(((product1, product2), 1))\n",
    "                \n",
    "    return returnedPairs\n",
    "\n",
    "PairsOfProductsRDD = ProductID_ValuesRDD.flatMap(extractPairsOfProducts)\n",
    "PairsFrequenciesRDD = PairsOfProductsRDD.reduceByKey(lambda count1, count2: count1 + count2)\n",
    "atLeast2PairsFrequenciesRDD = PairsFrequenciesRDD.filter(lambda inputTuple: inputTuple[1]>1)\n",
    "atLeast2PairsFrequenciesSortedRDD = atLeast2PairsFrequenciesRDD.sortBy(lambda inputTuple: inputTuple[1], False)\n",
    "atLeast2PairsFrequenciesSortedRDD.saveAsTextFile(outputPath)"
   ]
  },
  {
   "cell_type": "code",
   "execution_count": null,
   "id": "7cf5f2ba-e1b6-485c-8914-a9a7a6641f73",
   "metadata": {},
   "outputs": [],
   "source": []
  }
 ],
 "metadata": {
  "kernelspec": {
   "display_name": "PySpark (Local)",
   "language": "python",
   "name": "pyspark_local"
  },
  "language_info": {
   "codemirror_mode": {
    "name": "ipython",
    "version": 3
   },
   "file_extension": ".py",
   "mimetype": "text/x-python",
   "name": "python",
   "nbconvert_exporter": "python",
   "pygments_lexer": "ipython3",
   "version": "3.7.12"
  }
 },
 "nbformat": 4,
 "nbformat_minor": 5
}
