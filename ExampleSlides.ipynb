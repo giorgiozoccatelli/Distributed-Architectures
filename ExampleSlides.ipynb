{
 "cells": [
  {
   "cell_type": "code",
   "execution_count": 1,
   "id": "1bcbe0ba-11ae-4245-848b-cda6e3a24967",
   "metadata": {},
   "outputs": [
    {
     "data": {
      "text/html": [
       "\n",
       "        <div>\n",
       "            <p><b>SparkContext</b></p>\n",
       "\n",
       "            <p><a href=\"http://10.42.54.149:4042\">Spark UI</a></p>\n",
       "\n",
       "            <dl>\n",
       "              <dt>Version</dt>\n",
       "                <dd><code>v2.4.0-cdh6.2.1</code></dd>\n",
       "              <dt>Master</dt>\n",
       "                <dd><code>local[*]</code></dd>\n",
       "              <dt>AppName</dt>\n",
       "                <dd><code>pyspark-shell</code></dd>\n",
       "            </dl>\n",
       "        </div>\n",
       "        "
      ],
      "text/plain": [
       "<SparkContext master=local[*] appName=pyspark-shell>"
      ]
     },
     "execution_count": 1,
     "metadata": {},
     "output_type": "execute_result"
    }
   ],
   "source": [
    "sc"
   ]
  },
  {
   "cell_type": "code",
   "execution_count": null,
   "id": "6ae97bdc-a586-4737-a5cc-002a9e2be8ba",
   "metadata": {},
   "outputs": [],
   "source": []
  },
  {
   "cell_type": "code",
   "execution_count": 2,
   "id": "5e663af3-8e99-43e4-a38e-d62c15f02b0e",
   "metadata": {},
   "outputs": [],
   "source": [
    "# Read the content of a log file\n",
    "inputRDD = sc.textFile(\"log.txt\")"
   ]
  },
  {
   "cell_type": "code",
   "execution_count": 3,
   "id": "11f62854-cbd9-441d-a42d-21c60fe65b0c",
   "metadata": {},
   "outputs": [
    {
     "data": {
      "text/plain": [
       "['66.249.69.97 - - [24/Sep/2014:22:25:44 +0000] \"GET error”',\n",
       " '66.249.69.97 - - [24/Sep/2014:22:26:44 +0000] \"GET http://www.google.com/how.html”',\n",
       " '66.249.69.97 - - [24/Sep/2014:22:28:44 +0000] \"GET error error”',\n",
       " '71.19.157.179 - - [24/Sep/2014:22:30:12 +0000] \"GET http://www.google.com/faq.html”',\n",
       " '66.249.69.97 - - [24/Sep/2014:31:28:44 +0000] \"GET http://dbdmg.polito.it/thesis.html”']"
      ]
     },
     "execution_count": 3,
     "metadata": {},
     "output_type": "execute_result"
    }
   ],
   "source": [
    "# Only for debug\n",
    "inputRDD.collect()"
   ]
  },
  {
   "cell_type": "code",
   "execution_count": 4,
   "id": "c2d679aa-c95e-4656-9873-975b627525da",
   "metadata": {},
   "outputs": [],
   "source": [
    "# Select the rows containing the word “error”\n",
    "errorsRDD = inputRDD.filter(lambda e: e.find('error')>=0)"
   ]
  },
  {
   "cell_type": "code",
   "execution_count": 5,
   "id": "27e6ed19-1637-4356-b311-796d907e6c4d",
   "metadata": {},
   "outputs": [
    {
     "data": {
      "text/plain": [
       "['66.249.69.97 - - [24/Sep/2014:22:25:44 +0000] \"GET error”',\n",
       " '66.249.69.97 - - [24/Sep/2014:22:28:44 +0000] \"GET error error”']"
      ]
     },
     "execution_count": 5,
     "metadata": {},
     "output_type": "execute_result"
    }
   ],
   "source": [
    "# Only for debug\n",
    "errorsRDD.collect()"
   ]
  },
  {
   "cell_type": "code",
   "execution_count": null,
   "id": "462ee43d-fe09-4851-9ad4-01146af2df3c",
   "metadata": {},
   "outputs": [],
   "source": []
  },
  {
   "cell_type": "code",
   "execution_count": 6,
   "id": "dc0617c9-9e56-4ed9-8d17-91d3b9dda1d2",
   "metadata": {},
   "outputs": [],
   "source": [
    "# Create an RDD of integers. Load the values 1, 2, 3, 3 in this RDD\n",
    "inputList = [1, 2, 3, 3]\n",
    "inputRDD = sc.parallelize(inputList);\n",
    "# Select the values greater than 2\n",
    "greaterRDD = inputRDD.filter(lambda num : num>2)"
   ]
  },
  {
   "cell_type": "code",
   "execution_count": 7,
   "id": "f1f99623-c8d3-4151-91e1-800ea35fe601",
   "metadata": {},
   "outputs": [
    {
     "data": {
      "text/plain": [
       "[3, 3]"
      ]
     },
     "execution_count": 7,
     "metadata": {},
     "output_type": "execute_result"
    }
   ],
   "source": [
    "# Only for debug\n",
    "greaterRDD.collect()"
   ]
  },
  {
   "cell_type": "code",
   "execution_count": null,
   "id": "853a914a-c2b7-465f-84ff-072f62ebee6d",
   "metadata": {},
   "outputs": [],
   "source": []
  },
  {
   "cell_type": "code",
   "execution_count": 8,
   "id": "d0a5da4b-aa5c-489c-8948-d3834b968570",
   "metadata": {},
   "outputs": [],
   "source": [
    "# Read the content of the input textual file\n",
    "inputRDD = sc.textFile(\"usernames.txt\")\n",
    "\n",
    "# Compute the lengths of the input surnames\n",
    "lenghtsRDD = inputRDD.map(lambda line: len(line))"
   ]
  },
  {
   "cell_type": "code",
   "execution_count": 9,
   "id": "22213130-5c42-4efd-931c-8dfcd3af71fc",
   "metadata": {},
   "outputs": [
    {
     "data": {
      "text/plain": [
       "['PaoloG', 'LucaV', 'MartinoT']"
      ]
     },
     "execution_count": 9,
     "metadata": {},
     "output_type": "execute_result"
    }
   ],
   "source": [
    "# Only for debug\n",
    "inputRDD.collect()"
   ]
  },
  {
   "cell_type": "code",
   "execution_count": 10,
   "id": "db8543a2-62f9-4514-a1bb-a760b3cc344b",
   "metadata": {},
   "outputs": [
    {
     "data": {
      "text/plain": [
       "[6, 5, 8]"
      ]
     },
     "execution_count": 10,
     "metadata": {},
     "output_type": "execute_result"
    }
   ],
   "source": [
    "# Only for debug\n",
    "lenghtsRDD.collect()"
   ]
  },
  {
   "cell_type": "code",
   "execution_count": null,
   "id": "8180ed5b-3987-453a-bde3-fa4460ecc42e",
   "metadata": {},
   "outputs": [],
   "source": []
  },
  {
   "cell_type": "code",
   "execution_count": 11,
   "id": "1bff0a09-651d-4dea-b452-3a2be5dd57a4",
   "metadata": {},
   "outputs": [],
   "source": [
    "# Read the content of the input textual file\n",
    "inputRDD = sc.textFile(\"document.txt\")\n",
    "\n",
    "# Compute/identify the list of words occurring in document.txt\n",
    "listOfWordsRDD = inputRDD.flatMap(lambda l: l.split(' '))"
   ]
  },
  {
   "cell_type": "code",
   "execution_count": 12,
   "id": "0c1c59e0-e816-4a12-8efd-57c03e93a8fa",
   "metadata": {},
   "outputs": [
    {
     "data": {
      "text/plain": [
       "['Test flatMap', 'Two lines with two occurrences of Test']"
      ]
     },
     "execution_count": 12,
     "metadata": {},
     "output_type": "execute_result"
    }
   ],
   "source": [
    "# Only for debug\n",
    "inputRDD.collect()"
   ]
  },
  {
   "cell_type": "code",
   "execution_count": 13,
   "id": "cdacd616-c492-4fb6-aa4a-90674985850b",
   "metadata": {},
   "outputs": [
    {
     "data": {
      "text/plain": [
       "['Test', 'flatMap', 'Two', 'lines', 'with', 'two', 'occurrences', 'of', 'Test']"
      ]
     },
     "execution_count": 13,
     "metadata": {},
     "output_type": "execute_result"
    }
   ],
   "source": [
    "# Only for debug\n",
    "listOfWordsRDD.collect()"
   ]
  },
  {
   "cell_type": "code",
   "execution_count": null,
   "id": "5e58d5f5-34d1-4285-9bfc-77d27bd2e885",
   "metadata": {},
   "outputs": [],
   "source": []
  },
  {
   "cell_type": "code",
   "execution_count": 14,
   "id": "fd92209f-cbe6-4d68-8fa4-5194e469eede",
   "metadata": {},
   "outputs": [],
   "source": [
    "inputList = [1, 2, 3, 3]\n",
    "inputRDD = sc.parallelize(inputList);"
   ]
  },
  {
   "cell_type": "code",
   "execution_count": 15,
   "id": "d5df233a-ef32-4079-b029-a8dc4cdbbc17",
   "metadata": {},
   "outputs": [],
   "source": [
    "# Exmaple of flatMap\n",
    "resultRDD = inputRDD.flatMap(lambda x: list(range(x,4)))"
   ]
  },
  {
   "cell_type": "code",
   "execution_count": 16,
   "id": "5671a196-405a-4112-9dd1-22d9a583c3e3",
   "metadata": {},
   "outputs": [
    {
     "data": {
      "text/plain": [
       "[1, 2, 3, 3]"
      ]
     },
     "execution_count": 16,
     "metadata": {},
     "output_type": "execute_result"
    }
   ],
   "source": [
    "# Only for debug\n",
    "inputRDD.collect()"
   ]
  },
  {
   "cell_type": "code",
   "execution_count": 17,
   "id": "245337e0-801c-4c1a-a809-af80ecca2a6a",
   "metadata": {},
   "outputs": [
    {
     "data": {
      "text/plain": [
       "[1, 2, 3, 2, 3, 3, 3]"
      ]
     },
     "execution_count": 17,
     "metadata": {},
     "output_type": "execute_result"
    }
   ],
   "source": [
    "# Only for debug\n",
    "resultRDD.collect()"
   ]
  },
  {
   "cell_type": "code",
   "execution_count": null,
   "id": "ade06a52-5afd-4bc1-aa17-a9d8a9a46a5e",
   "metadata": {},
   "outputs": [],
   "source": []
  },
  {
   "cell_type": "code",
   "execution_count": 18,
   "id": "8ce6ff1f-4bc9-4266-ba33-ca3636beb2cd",
   "metadata": {},
   "outputs": [],
   "source": [
    "# The same function I used before inside a map instead of flatMap\n",
    "resultMapRDD = inputRDD.map(lambda x: list(range(x,4)))"
   ]
  },
  {
   "cell_type": "code",
   "execution_count": 19,
   "id": "8fc1eb67-5fb6-4fff-a9c8-23a511a40d0e",
   "metadata": {},
   "outputs": [
    {
     "data": {
      "text/plain": [
       "[[1, 2, 3], [2, 3], [3], [3]]"
      ]
     },
     "execution_count": 19,
     "metadata": {},
     "output_type": "execute_result"
    }
   ],
   "source": [
    "# Only for debug\n",
    "# The result is a list of lists\n",
    "resultMapRDD.collect()"
   ]
  },
  {
   "cell_type": "code",
   "execution_count": null,
   "id": "2f02a462-d936-4e13-a8cd-5b1068dafdee",
   "metadata": {},
   "outputs": [],
   "source": []
  },
  {
   "cell_type": "code",
   "execution_count": 20,
   "id": "dbc85c62-444e-4da9-8de5-a40cb77afdb8",
   "metadata": {},
   "outputs": [],
   "source": [
    "# Read the content of a textual input file\n",
    "inputRDD = sc.textFile(\"names.txt\")\n",
    "\n",
    "\n",
    "# Sort the content of the input RDD by name.\n",
    "# Store the sorted result in a new RDD\n",
    "sortedNamesRDD = inputRDD.sortBy(lambda name: name)"
   ]
  },
  {
   "cell_type": "code",
   "execution_count": 21,
   "id": "b1db3e5a-157e-4b09-ab6d-de98aae6bccf",
   "metadata": {},
   "outputs": [
    {
     "data": {
      "text/plain": [
       "['Paolo', 'Luca', 'John', 'Denis', 'William', 'Elizabeth', 'Carlos', 'Ernesto']"
      ]
     },
     "execution_count": 21,
     "metadata": {},
     "output_type": "execute_result"
    }
   ],
   "source": [
    "# Only for debug\n",
    "inputRDD.collect()"
   ]
  },
  {
   "cell_type": "code",
   "execution_count": 22,
   "id": "c12b4fb0-ccd2-428a-a532-c2ec778c8315",
   "metadata": {},
   "outputs": [
    {
     "data": {
      "text/plain": [
       "['Carlos', 'Denis', 'Elizabeth', 'Ernesto', 'John', 'Luca', 'Paolo', 'William']"
      ]
     },
     "execution_count": 22,
     "metadata": {},
     "output_type": "execute_result"
    }
   ],
   "source": [
    "# Only for debug\n",
    "sortedNamesRDD.collect()"
   ]
  },
  {
   "cell_type": "code",
   "execution_count": null,
   "id": "b0401644-2d19-48d0-ba3c-b968359e665e",
   "metadata": {},
   "outputs": [],
   "source": []
  },
  {
   "cell_type": "code",
   "execution_count": 23,
   "id": "f7281434-2607-4e5c-83b4-066c3d78708d",
   "metadata": {},
   "outputs": [],
   "source": [
    "# Read the content of a textual input file\n",
    "inputRDD = sc.textFile(\"names.txt\")\n",
    "\n",
    "\n",
    "# Sort the content of the input RDD by length of the names.\n",
    "# Store the sorted result in a new RDD\n",
    "sortedLenRDD = inputRDD.sortBy(lambda name: len(name))"
   ]
  },
  {
   "cell_type": "code",
   "execution_count": 24,
   "id": "9a49d2da-82a9-43bd-8007-feb48f998902",
   "metadata": {},
   "outputs": [
    {
     "data": {
      "text/plain": [
       "['Paolo', 'Luca', 'John', 'Denis', 'William', 'Elizabeth', 'Carlos', 'Ernesto']"
      ]
     },
     "execution_count": 24,
     "metadata": {},
     "output_type": "execute_result"
    }
   ],
   "source": [
    "# Only for debug\n",
    "inputRDD.collect()"
   ]
  },
  {
   "cell_type": "code",
   "execution_count": 25,
   "id": "e30a93ec-48e2-4520-84db-72cc0bd4570f",
   "metadata": {},
   "outputs": [
    {
     "data": {
      "text/plain": [
       "['Luca', 'John', 'Paolo', 'Denis', 'Carlos', 'William', 'Ernesto', 'Elizabeth']"
      ]
     },
     "execution_count": 25,
     "metadata": {},
     "output_type": "execute_result"
    }
   ],
   "source": [
    "# Only for debug\n",
    "sortedLenRDD.collect()"
   ]
  },
  {
   "cell_type": "code",
   "execution_count": null,
   "id": "a1a3808c-26f3-4b6a-93e9-78c9f5cbb216",
   "metadata": {},
   "outputs": [],
   "source": []
  },
  {
   "cell_type": "code",
   "execution_count": null,
   "id": "1623da93-a53a-458d-a03a-a898eaf0db2f",
   "metadata": {},
   "outputs": [],
   "source": []
  },
  {
   "cell_type": "code",
   "execution_count": 26,
   "id": "c8fc6616-5e41-4dd7-a646-f2c732b108a8",
   "metadata": {},
   "outputs": [],
   "source": [
    "# Read the content of a textual input file\n",
    "inputRDD = sc.textFile(\"names.txt\")\n",
    "\n",
    "\n",
    "# Sort by lenght and then by alphabetical order\n",
    "sortedLen_AlphaRDD = inputRDD.sortBy(lambda name: (len(name), name)   )"
   ]
  },
  {
   "cell_type": "code",
   "execution_count": 27,
   "id": "fe21ff33-4cde-4f3b-93b5-20556a0a65b1",
   "metadata": {},
   "outputs": [
    {
     "data": {
      "text/plain": [
       "['John', 'Luca', 'Denis', 'Paolo', 'Carlos', 'Ernesto', 'William', 'Elizabeth']"
      ]
     },
     "execution_count": 27,
     "metadata": {},
     "output_type": "execute_result"
    }
   ],
   "source": [
    "# Only for debug\n",
    "sortedLen_AlphaRDD.collect()"
   ]
  },
  {
   "cell_type": "code",
   "execution_count": null,
   "id": "29a1490b-36bc-4d31-837a-2dd2b601c2ff",
   "metadata": {},
   "outputs": [],
   "source": []
  },
  {
   "cell_type": "code",
   "execution_count": null,
   "id": "29bf8e0f-7540-4dd2-81dd-d4cda43300f9",
   "metadata": {},
   "outputs": [],
   "source": []
  },
  {
   "cell_type": "code",
   "execution_count": null,
   "id": "02063857-815f-4910-a08e-5a23cf8b626e",
   "metadata": {},
   "outputs": [],
   "source": []
  },
  {
   "cell_type": "code",
   "execution_count": null,
   "id": "8702ad13-6f59-438a-bd7f-092a8d54178e",
   "metadata": {},
   "outputs": [],
   "source": []
  },
  {
   "cell_type": "code",
   "execution_count": 28,
   "id": "d3114b64-dfb4-4eff-84da-861c409058bb",
   "metadata": {},
   "outputs": [],
   "source": [
    "# Read the content of the input textual file\n",
    "namesRDD = sc.textFile(\"namesWithRepetitions.txt\")\n",
    "\n",
    "# Compute the number of occurrencies of each name\n",
    "namesOccurrences = namesRDD.countByValue()"
   ]
  },
  {
   "cell_type": "code",
   "execution_count": 29,
   "id": "b1b82b28-6f82-47ae-9724-f27c1c893928",
   "metadata": {},
   "outputs": [
    {
     "data": {
      "text/plain": [
       "['Paolo',\n",
       " 'Luca',\n",
       " 'John',\n",
       " 'Denis',\n",
       " 'William',\n",
       " 'Elizabeth',\n",
       " 'Carlos',\n",
       " 'Ernesto',\n",
       " 'Luca',\n",
       " 'Paolo',\n",
       " 'Carlos',\n",
       " 'William',\n",
       " 'William',\n",
       " 'Luca',\n",
       " 'Luca']"
      ]
     },
     "execution_count": 29,
     "metadata": {},
     "output_type": "execute_result"
    }
   ],
   "source": [
    "# Only for debug\n",
    "namesRDD.collect()"
   ]
  },
  {
   "cell_type": "code",
   "execution_count": 30,
   "id": "1b051c6c-0192-48bb-a03a-3de1709e30e7",
   "metadata": {},
   "outputs": [
    {
     "data": {
      "text/plain": [
       "collections.defaultdict"
      ]
     },
     "execution_count": 30,
     "metadata": {},
     "output_type": "execute_result"
    }
   ],
   "source": [
    "# Only for debug\n",
    "type(namesOccurrences)"
   ]
  },
  {
   "cell_type": "code",
   "execution_count": 31,
   "id": "060492d4-0987-4367-b951-f44afa142722",
   "metadata": {},
   "outputs": [
    {
     "data": {
      "text/plain": [
       "defaultdict(int,\n",
       "            {'Paolo': 2,\n",
       "             'Luca': 4,\n",
       "             'John': 1,\n",
       "             'Denis': 1,\n",
       "             'William': 3,\n",
       "             'Elizabeth': 1,\n",
       "             'Carlos': 2,\n",
       "             'Ernesto': 1})"
      ]
     },
     "execution_count": 31,
     "metadata": {},
     "output_type": "execute_result"
    }
   ],
   "source": [
    "namesOccurrences"
   ]
  },
  {
   "cell_type": "code",
   "execution_count": null,
   "id": "6fc931b2-0d11-4558-99e6-357a81f791c6",
   "metadata": {},
   "outputs": [],
   "source": []
  },
  {
   "cell_type": "code",
   "execution_count": 32,
   "id": "b7b6f3f8-4024-4fcf-b103-85ddad3c57d8",
   "metadata": {},
   "outputs": [],
   "source": [
    "# Create an RDD of integers. Load the values 1, 5, 3, 4,2 in this RDD\n",
    "inputList = [1, 5, 4, 4, 2]\n",
    "inputRDD = sc.parallelize(inputList)"
   ]
  },
  {
   "cell_type": "code",
   "execution_count": 33,
   "id": "fd0147af-2ff6-4eb9-944c-77c70978bde0",
   "metadata": {},
   "outputs": [
    {
     "data": {
      "text/plain": [
       "[1, 5, 4, 4, 2]"
      ]
     },
     "execution_count": 33,
     "metadata": {},
     "output_type": "execute_result"
    }
   ],
   "source": [
    "# Only for debug\n",
    "inputRDD.collect()"
   ]
  },
  {
   "cell_type": "code",
   "execution_count": 34,
   "id": "1795039d-0052-407e-9ed1-d14d8bcb86fc",
   "metadata": {},
   "outputs": [],
   "source": [
    "# take(2)\n",
    "takeValues = inputRDD.take(2)"
   ]
  },
  {
   "cell_type": "code",
   "execution_count": 35,
   "id": "64478565-bf71-4f58-b259-7190c80d01d7",
   "metadata": {},
   "outputs": [
    {
     "data": {
      "text/plain": [
       "[1, 5]"
      ]
     },
     "execution_count": 35,
     "metadata": {},
     "output_type": "execute_result"
    }
   ],
   "source": [
    "# Only for debug\n",
    "takeValues"
   ]
  },
  {
   "cell_type": "code",
   "execution_count": null,
   "id": "6d522737-e2d1-47bd-9bf1-aec07549b268",
   "metadata": {},
   "outputs": [],
   "source": []
  },
  {
   "cell_type": "code",
   "execution_count": 36,
   "id": "f9431b67-d202-4d7a-b4c3-3bb82b476cd7",
   "metadata": {},
   "outputs": [
    {
     "data": {
      "text/plain": [
       "[1, 5, 4, 4, 2]"
      ]
     },
     "execution_count": 36,
     "metadata": {},
     "output_type": "execute_result"
    }
   ],
   "source": [
    "# Only for debug\n",
    "inputRDD.collect()"
   ]
  },
  {
   "cell_type": "code",
   "execution_count": 37,
   "id": "62e9ab7c-971e-4b19-8128-3aa80d4fd840",
   "metadata": {},
   "outputs": [],
   "source": [
    "# Retrieve the top-2 elements of the inputRDD and store them in\n",
    "# a local python list\n",
    "topValues = inputRDD.top(2)"
   ]
  },
  {
   "cell_type": "code",
   "execution_count": 38,
   "id": "56f0a3e9-421f-4292-b30e-3d495fc0a13b",
   "metadata": {},
   "outputs": [
    {
     "data": {
      "text/plain": [
       "[5, 4]"
      ]
     },
     "execution_count": 38,
     "metadata": {},
     "output_type": "execute_result"
    }
   ],
   "source": [
    "# Only for debug\n",
    "topValues"
   ]
  },
  {
   "cell_type": "code",
   "execution_count": null,
   "id": "58dff008-8eec-4c8c-80b2-ae76e0df1b94",
   "metadata": {},
   "outputs": [],
   "source": []
  },
  {
   "cell_type": "code",
   "execution_count": 39,
   "id": "a8a18b4a-fe58-47a9-ab17-1b201fcb7951",
   "metadata": {},
   "outputs": [],
   "source": [
    "# Create an RDD of strings. Load the values 'Paolo', 'Giovanni', 'Luca']\n",
    "# in the RDD\n",
    "inputList = ['Paolo', 'Giovanni', 'Luca']\n",
    "inputRDD = sc.parallelize(inputList)\n",
    "# Retrieve the 2 longest names of the inputRDD and store them in\n",
    "# a local python list\n",
    "retrievedValues = inputRDD.top(2,lambda s:len(s))"
   ]
  },
  {
   "cell_type": "code",
   "execution_count": 40,
   "id": "f0a1aced-7699-4304-91e4-02c21d48e5b8",
   "metadata": {},
   "outputs": [
    {
     "data": {
      "text/plain": [
       "['Giovanni', 'Paolo']"
      ]
     },
     "execution_count": 40,
     "metadata": {},
     "output_type": "execute_result"
    }
   ],
   "source": [
    "# Only for debug\n",
    "retrievedValues"
   ]
  },
  {
   "cell_type": "code",
   "execution_count": null,
   "id": "5d873872-fc1b-4d91-838d-3debd6192871",
   "metadata": {},
   "outputs": [],
   "source": []
  },
  {
   "cell_type": "code",
   "execution_count": 41,
   "id": "f4b4b57e-691e-4a65-ac48-e434d1b84b2e",
   "metadata": {},
   "outputs": [],
   "source": [
    "# Create an RDD of integers. Load the values 1, 2, 3, 3 in this RDD\n",
    "inputListReduce = [1, 2, 3, 3]\n",
    "inputRDDReduce = sc.parallelize(inputListReduce)\n",
    "# Compute the sum of the values\n",
    "sumValues = inputRDDReduce.reduce(lambda e1, e2: e1+e2)"
   ]
  },
  {
   "cell_type": "code",
   "execution_count": 42,
   "id": "1265cafa-8fb3-47a7-b4bc-9966c18ac2b3",
   "metadata": {},
   "outputs": [
    {
     "data": {
      "text/plain": [
       "[1, 2, 3, 3]"
      ]
     },
     "execution_count": 42,
     "metadata": {},
     "output_type": "execute_result"
    }
   ],
   "source": [
    "# Only for debug\n",
    "inputRDDReduce.collect()"
   ]
  },
  {
   "cell_type": "code",
   "execution_count": 43,
   "id": "9886c3fe-debb-4387-972e-760bac203fef",
   "metadata": {},
   "outputs": [],
   "source": [
    "# Create an RDD of integers. Load the values 1, 2, 3, 3 in this RDD\n",
    "inputListReduce = [1, 2, 3, 3]\n",
    "inputRDDReduce = sc.parallelize(inputListReduce)"
   ]
  },
  {
   "cell_type": "code",
   "execution_count": 44,
   "id": "99ca8afb-ad23-496e-8fe5-9a51215742e4",
   "metadata": {},
   "outputs": [],
   "source": [
    "# Compute the maximum value\n",
    "maxValue = inputRDDReduce.reduce(lambda e1, e2: max(e1, e2))"
   ]
  },
  {
   "cell_type": "code",
   "execution_count": 45,
   "id": "54801a30-f50c-4c35-83bb-9274e910d160",
   "metadata": {},
   "outputs": [
    {
     "data": {
      "text/plain": [
       "3"
      ]
     },
     "execution_count": 45,
     "metadata": {},
     "output_type": "execute_result"
    }
   ],
   "source": [
    "maxValue"
   ]
  },
  {
   "cell_type": "code",
   "execution_count": null,
   "id": "375dce49-64e8-4dcb-bb03-5ab181fd668d",
   "metadata": {},
   "outputs": [],
   "source": []
  },
  {
   "cell_type": "code",
   "execution_count": 46,
   "id": "54317464-28c3-4b6e-bfc0-ed070456bdfc",
   "metadata": {},
   "outputs": [],
   "source": [
    "# Compute the maximum value using top(1)\n",
    "maxValue = inputRDDReduce.top(1)"
   ]
  },
  {
   "cell_type": "code",
   "execution_count": 47,
   "id": "3890d74d-c46a-4bf5-868c-27d92d9707aa",
   "metadata": {},
   "outputs": [
    {
     "data": {
      "text/plain": [
       "[3]"
      ]
     },
     "execution_count": 47,
     "metadata": {},
     "output_type": "execute_result"
    }
   ],
   "source": [
    "# Pay attention: This is a list containing one single value. reduce returns the value\n",
    "maxValue"
   ]
  },
  {
   "cell_type": "code",
   "execution_count": null,
   "id": "671c4bb1-c7c2-4986-a059-b3a1829c9c34",
   "metadata": {},
   "outputs": [],
   "source": []
  },
  {
   "cell_type": "code",
   "execution_count": null,
   "id": "5b733528-8ac5-437a-98a6-a8f27c8bfc6c",
   "metadata": {},
   "outputs": [],
   "source": []
  }
 ],
 "metadata": {
  "kernelspec": {
   "display_name": "pyspark_env",
   "language": "python",
   "name": "pyspark_env"
  },
  "language_info": {
   "codemirror_mode": {
    "name": "ipython",
    "version": 3
   },
   "file_extension": ".py",
   "mimetype": "text/x-python",
   "name": "python",
   "nbconvert_exporter": "python",
   "pygments_lexer": "ipython3",
   "version": "3.10.16"
  }
 },
 "nbformat": 4,
 "nbformat_minor": 5
}
